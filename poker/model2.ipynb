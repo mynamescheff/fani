{
 "cells": [
  {
   "cell_type": "code",
   "execution_count": 2,
   "metadata": {},
   "outputs": [],
   "source": [
    "import pandas as pd\n",
    "import numpy as np\n",
    "import matplotlib.pyplot as plt\n",
    "import sklearn as sk\n",
    "import seaborn as sns"
   ]
  },
  {
   "cell_type": "code",
   "execution_count": 3,
   "metadata": {},
   "outputs": [
    {
     "data": {
      "text/html": [
       "<div>\n",
       "<style scoped>\n",
       "    .dataframe tbody tr th:only-of-type {\n",
       "        vertical-align: middle;\n",
       "    }\n",
       "\n",
       "    .dataframe tbody tr th {\n",
       "        vertical-align: top;\n",
       "    }\n",
       "\n",
       "    .dataframe thead th {\n",
       "        text-align: right;\n",
       "    }\n",
       "</style>\n",
       "<table border=\"1\" class=\"dataframe\">\n",
       "  <thead>\n",
       "    <tr style=\"text-align: right;\">\n",
       "      <th></th>\n",
       "      <th>First Card</th>\n",
       "      <th>Second Card</th>\n",
       "      <th>Third Card</th>\n",
       "      <th>Fourth Card</th>\n",
       "      <th>Fifth Card</th>\n",
       "      <th>Result</th>\n",
       "    </tr>\n",
       "  </thead>\n",
       "  <tbody>\n",
       "    <tr>\n",
       "      <th>0</th>\n",
       "      <td>King Clubs</td>\n",
       "      <td>Ace Clubs</td>\n",
       "      <td>Ten Diamonds</td>\n",
       "      <td>Queen Clubs</td>\n",
       "      <td>Ten Clubs</td>\n",
       "      <td>Pair</td>\n",
       "    </tr>\n",
       "    <tr>\n",
       "      <th>1</th>\n",
       "      <td>Queen Spades</td>\n",
       "      <td>Ten Clubs</td>\n",
       "      <td>Jack Hearts</td>\n",
       "      <td>King Hearts</td>\n",
       "      <td>Ten Hearts</td>\n",
       "      <td>Pair</td>\n",
       "    </tr>\n",
       "    <tr>\n",
       "      <th>2</th>\n",
       "      <td>Nine Diamonds</td>\n",
       "      <td>Ace Spades</td>\n",
       "      <td>Nine Hearts</td>\n",
       "      <td>King Clubs</td>\n",
       "      <td>Jack Spades</td>\n",
       "      <td>Pair</td>\n",
       "    </tr>\n",
       "    <tr>\n",
       "      <th>3</th>\n",
       "      <td>Jack Diamonds</td>\n",
       "      <td>Ten Spades</td>\n",
       "      <td>Queen Diamonds</td>\n",
       "      <td>Ace Spades</td>\n",
       "      <td>Nine Clubs</td>\n",
       "      <td>High Card</td>\n",
       "    </tr>\n",
       "    <tr>\n",
       "      <th>4</th>\n",
       "      <td>King Spades</td>\n",
       "      <td>Queen Diamonds</td>\n",
       "      <td>King Clubs</td>\n",
       "      <td>Nine Hearts</td>\n",
       "      <td>Ten Hearts</td>\n",
       "      <td>Pair</td>\n",
       "    </tr>\n",
       "  </tbody>\n",
       "</table>\n",
       "</div>"
      ],
      "text/plain": [
       "      First Card     Second Card      Third Card  Fourth Card   Fifth Card  \\\n",
       "0     King Clubs       Ace Clubs    Ten Diamonds  Queen Clubs    Ten Clubs   \n",
       "1   Queen Spades       Ten Clubs     Jack Hearts  King Hearts   Ten Hearts   \n",
       "2  Nine Diamonds      Ace Spades     Nine Hearts   King Clubs  Jack Spades   \n",
       "3  Jack Diamonds      Ten Spades  Queen Diamonds   Ace Spades   Nine Clubs   \n",
       "4    King Spades  Queen Diamonds      King Clubs  Nine Hearts   Ten Hearts   \n",
       "\n",
       "      Result  \n",
       "0       Pair  \n",
       "1       Pair  \n",
       "2       Pair  \n",
       "3  High Card  \n",
       "4       Pair  "
      ]
     },
     "execution_count": 3,
     "metadata": {},
     "output_type": "execute_result"
    }
   ],
   "source": [
    "df1kk = pd.read_csv('poker1kk.csv')\n",
    "df1kk.head()"
   ]
  },
  {
   "cell_type": "code",
   "execution_count": 4,
   "metadata": {},
   "outputs": [
    {
     "name": "stdout",
     "output_type": "stream",
     "text": [
      "<class 'pandas.core.frame.DataFrame'>\n",
      "RangeIndex: 1000000 entries, 0 to 999999\n",
      "Data columns (total 6 columns):\n",
      " #   Column       Non-Null Count    Dtype \n",
      "---  ------       --------------    ----- \n",
      " 0   First Card   1000000 non-null  object\n",
      " 1   Second Card  1000000 non-null  object\n",
      " 2   Third Card   1000000 non-null  object\n",
      " 3   Fourth Card  1000000 non-null  object\n",
      " 4   Fifth Card   1000000 non-null  object\n",
      " 5   Result       1000000 non-null  object\n",
      "dtypes: object(6)\n",
      "memory usage: 45.8+ MB\n"
     ]
    }
   ],
   "source": [
    "df1kk.info()"
   ]
  },
  {
   "cell_type": "code",
   "execution_count": 5,
   "metadata": {},
   "outputs": [
    {
     "data": {
      "text/html": [
       "<div>\n",
       "<style scoped>\n",
       "    .dataframe tbody tr th:only-of-type {\n",
       "        vertical-align: middle;\n",
       "    }\n",
       "\n",
       "    .dataframe tbody tr th {\n",
       "        vertical-align: top;\n",
       "    }\n",
       "\n",
       "    .dataframe thead th {\n",
       "        text-align: right;\n",
       "    }\n",
       "</style>\n",
       "<table border=\"1\" class=\"dataframe\">\n",
       "  <thead>\n",
       "    <tr style=\"text-align: right;\">\n",
       "      <th></th>\n",
       "      <th>First Card</th>\n",
       "      <th>Second Card</th>\n",
       "      <th>Third Card</th>\n",
       "      <th>Fourth Card</th>\n",
       "      <th>Fifth Card</th>\n",
       "      <th>Result</th>\n",
       "    </tr>\n",
       "  </thead>\n",
       "  <tbody>\n",
       "    <tr>\n",
       "      <th>count</th>\n",
       "      <td>1000000</td>\n",
       "      <td>1000000</td>\n",
       "      <td>1000000</td>\n",
       "      <td>1000000</td>\n",
       "      <td>1000000</td>\n",
       "      <td>1000000</td>\n",
       "    </tr>\n",
       "    <tr>\n",
       "      <th>unique</th>\n",
       "      <td>24</td>\n",
       "      <td>24</td>\n",
       "      <td>24</td>\n",
       "      <td>24</td>\n",
       "      <td>24</td>\n",
       "      <td>6</td>\n",
       "    </tr>\n",
       "    <tr>\n",
       "      <th>top</th>\n",
       "      <td>Ten Spades</td>\n",
       "      <td>Nine Clubs</td>\n",
       "      <td>Nine Hearts</td>\n",
       "      <td>Nine Spades</td>\n",
       "      <td>Ten Clubs</td>\n",
       "      <td>Pair</td>\n",
       "    </tr>\n",
       "    <tr>\n",
       "      <th>freq</th>\n",
       "      <td>42277</td>\n",
       "      <td>41997</td>\n",
       "      <td>42014</td>\n",
       "      <td>41918</td>\n",
       "      <td>42199</td>\n",
       "      <td>541879</td>\n",
       "    </tr>\n",
       "  </tbody>\n",
       "</table>\n",
       "</div>"
      ],
      "text/plain": [
       "        First Card Second Card   Third Card  Fourth Card Fifth Card   Result\n",
       "count      1000000     1000000      1000000      1000000    1000000  1000000\n",
       "unique          24          24           24           24         24        6\n",
       "top     Ten Spades  Nine Clubs  Nine Hearts  Nine Spades  Ten Clubs     Pair\n",
       "freq         42277       41997        42014        41918      42199   541879"
      ]
     },
     "execution_count": 5,
     "metadata": {},
     "output_type": "execute_result"
    }
   ],
   "source": [
    "df1kk.describe()   "
   ]
  },
  {
   "cell_type": "code",
   "execution_count": 6,
   "metadata": {},
   "outputs": [
    {
     "data": {
      "text/plain": [
       "First Card     24\n",
       "Second Card    24\n",
       "Third Card     24\n",
       "Fourth Card    24\n",
       "Fifth Card     24\n",
       "Result          6\n",
       "dtype: int64"
      ]
     },
     "execution_count": 6,
     "metadata": {},
     "output_type": "execute_result"
    }
   ],
   "source": [
    "#unique values from each column\n",
    "df1kk.nunique()"
   ]
  },
  {
   "cell_type": "code",
   "execution_count": 7,
   "metadata": {},
   "outputs": [
    {
     "data": {
      "text/plain": [
       "First Card     0\n",
       "Second Card    0\n",
       "Third Card     0\n",
       "Fourth Card    0\n",
       "Fifth Card     0\n",
       "Result         0\n",
       "dtype: int64"
      ]
     },
     "execution_count": 7,
     "metadata": {},
     "output_type": "execute_result"
    }
   ],
   "source": [
    "#check for null values\n",
    "df1kk.isnull().sum()\n"
   ]
  },
  {
   "cell_type": "code",
   "execution_count": 8,
   "metadata": {},
   "outputs": [
    {
     "data": {
      "image/png": "[encoded data removed]",
      "text/plain": [
       "<Figure size 1500x1200 with 1 Axes>"
      ]
     },
     "metadata": {},
     "output_type": "display_data"
    }
   ],
   "source": [
    "#visualize the data and show exact values on the top of the bars\n",
    "plt.figure(figsize=(15, 12))\n",
    "ax = sns.countplot(x='Result', data=df1kk, order=df1kk['Result'].value_counts().index)\n",
    "\n",
    "for p in ax.patches:\n",
    "    ax.annotate(format(p.get_height(), '.0f'), \n",
    "                (p.get_x() + p.get_width() / 2., p.get_height()), \n",
    "                ha = 'center', \n",
    "                va = 'center', \n",
    "                xytext = (0, 10), \n",
    "                textcoords = 'offset points')\n",
    "\n",
    "plt.show()"
   ]
  },
  {
   "cell_type": "code",
   "execution_count": 9,
   "metadata": {},
   "outputs": [
    {
     "data": {
      "image/png": "[encoded data removed]",
      "text/plain": [
       "<Figure size 1500x1200 with 1 Axes>"
      ]
     },
     "metadata": {},
     "output_type": "display_data"
    }
   ],
   "source": [
    "# Show percentage of each class in the dataset based on the total number of samples\n",
    "percentages = df1kk['Result'].value_counts(normalize=True) * 100\n",
    "\n",
    "# Make a pie chart\n",
    "plt.figure(figsize=(15, 12))\n",
    "plt.pie(percentages, labels=percentages.index, autopct='%1.1f%%')\n",
    "plt.show()\n",
    "\n"
   ]
  },
  {
   "cell_type": "code",
   "execution_count": 10,
   "metadata": {},
   "outputs": [],
   "source": [
    "#create a new df for changing the object values to numeric\n",
    "df1kk_num = df1kk.copy()\n"
   ]
  },
  {
   "cell_type": "code",
   "execution_count": 11,
   "metadata": {},
   "outputs": [],
   "source": [
    "cat_cols = df1kk_num.select_dtypes(include=['object']).columns\n",
    "num_cols = df1kk_num.select_dtypes(exclude=['object']).columns"
   ]
  },
  {
   "cell_type": "code",
   "execution_count": 12,
   "metadata": {},
   "outputs": [
    {
     "name": "stdout",
     "output_type": "stream",
     "text": [
      "Index(['First Card', 'Second Card', 'Third Card', 'Fourth Card', 'Fifth Card',\n",
      "       'Result'],\n",
      "      dtype='object')\n"
     ]
    }
   ],
   "source": [
    "print(cat_cols)"
   ]
  },
  {
   "cell_type": "code",
   "execution_count": 13,
   "metadata": {},
   "outputs": [],
   "source": [
    "#change categorical data to numerical data\n",
    "\n",
    "from sklearn.preprocessing import LabelEncoder\n",
    "\n",
    "# Create a LabelEncoder object\n",
    "le = LabelEncoder()\n",
    "\n",
    "# Loop through each categorical column in cat_cols\n",
    "for col in cat_cols:\n",
    "    # Fit the LabelEncoder object to the categorical column\n",
    "    le.fit(df1kk_num[col])\n",
    "    # Transform the categorical column to an integer column\n",
    "    df1kk_num[col] = le.transform(df1kk_num[col])"
   ]
  },
  {
   "cell_type": "code",
   "execution_count": 14,
   "metadata": {},
   "outputs": [],
   "source": [
    "from sklearn.model_selection import train_test_split\n",
    "\n",
    "#set the target variable\n",
    "y = df1kk_num['Result']\n",
    "X = df1kk_num.drop(['Result'], axis=1)\n",
    "\n",
    "#split data into train and test\n",
    "X_train, X_test, y_train, y_test = train_test_split(X, y, test_size=0.2, random_state=42)"
   ]
  },
  {
   "cell_type": "code",
   "execution_count": 15,
   "metadata": {},
   "outputs": [],
   "source": [
    "from sklearn.tree import DecisionTreeRegressor\n",
    "from sklearn.ensemble import RandomForestRegressor ,GradientBoostingRegressor,AdaBoostRegressor\n",
    "from sklearn.svm import SVR,LinearSVR\n",
    "from sklearn.neighbors import KNeighborsRegressor\n",
    "from sklearn.metrics import mean_squared_error, mean_absolute_error, r2_score\n",
    "import xgboost as xgb\n",
    "from catboost import CatBoostRegressor\n",
    "import lightgbm as lgb\n",
    "from sklearn.linear_model import LinearRegression\n",
    "\n",
    "models = {\n",
    "    'Linear Regression': LinearRegression(),\n",
    "    'Decision Tree': DecisionTreeRegressor(),\n",
    "    'Random Forest': RandomForestRegressor(),\n",
    "    'SVR': SVR(),\n",
    "    'XGBoost': xgb.XGBRegressor(),\n",
    "    'LightGBM': lgb.LGBMRegressor(),\n",
    "    'Gradient Boosting Regressor' : GradientBoostingRegressor(),\n",
    "    'ADA Boost' : AdaBoostRegressor(),\n",
    "    'K Neighbors Regressor' : KNeighborsRegressor(),\n",
    "    'Linear SVR' : LinearSVR(),\n",
    "    'Cat Boost Regressor' : CatBoostRegressor(),\n",
    "}"
   ]
  },
  {
   "cell_type": "code",
   "execution_count": 16,
   "metadata": {},
   "outputs": [
    {
     "name": "stdout",
     "output_type": "stream",
     "text": [
      "Results for Linear Regression:\n",
      "Mean Squared Error (MSE): 1.0441366444576787\n",
      "Mean Absolute Error (MAE): 0.8115692184834593\n",
      "R-squared Score: -8.76574723873702e-06\n",
      "\n",
      "Results for Decision Tree:\n",
      "Mean Squared Error (MSE): 0.04631\n",
      "Mean Absolute Error (MAE): 0.01967\n",
      "R-squared Score: 0.9556471787600098\n",
      "\n",
      "Results for Random Forest:\n",
      "Mean Squared Error (MSE): 0.010642301999999998\n",
      "Mean Absolute Error (MAE): 0.04420819999999994\n",
      "R-squared Score: 0.9898074688363638\n",
      "\n"
     ]
    }
   ],
   "source": [
    "Name = ['Linear Regression','Decision Tree','Random Forest','SVR','XGBoost','LightGBM','Gradient Boosting Regressor' ,'ADA Boost' ,'K Neighbors Regressor','Linear SVR','Cat Boost Regressor']\n",
    "accuracy = []\n",
    "for name, model in models.items():\n",
    "    model.fit(X_train, y_train)\n",
    "    y_pred = model.predict(X_test)\n",
    "    \n",
    "    mse = mean_squared_error(y_test, y_pred)\n",
    "    mae = mean_absolute_error(y_test, y_pred)\n",
    "    r2 = r2_score(y_test, y_pred)\n",
    "    \n",
    "    print(f\"Results for {name}:\")\n",
    "    print(\"Mean Squared Error (MSE):\", mse)\n",
    "    print(\"Mean Absolute Error (MAE):\", mae)\n",
    "    print(\"R-squared Score:\", r2)\n",
    "    accuracy.append(r2)\n",
    "    print()"
   ]
  },
  {
   "cell_type": "code",
   "execution_count": null,
   "metadata": {},
   "outputs": [],
   "source": [
    "accuracy"
   ]
  },
  {
   "cell_type": "code",
   "execution_count": null,
   "metadata": {},
   "outputs": [],
   "source": [
    "data = pd.DataFrame({\"Names\": Name, \"Accuracies\": accuracy})\n",
    "\n",
    "sns.set(style=\"ticks\")\n",
    "plt.figure(figsize=(8, 6))\n",
    "\n",
    "sns.barplot(x=\"Accuracies\", y=\"Names\", data=data, color=\"r\")\n",
    "\n",
    "plt.xlabel(\"Accuracy\")\n",
    "plt.ylabel(\"Model Names\")\n",
    "plt.title(\"Model Accuracies\")\n",
    "\n",
    "plt.show()"
   ]
  },
  {
   "cell_type": "code",
   "execution_count": null,
   "metadata": {},
   "outputs": [],
   "source": [
    "#create a function that checks for the best amount of neighbors\n",
    "#for predicting continuous variables\n",
    "#regression version\n",
    "\n",
    "from sklearn.neighbors import KNeighborsRegressor\n",
    "import matplotlib.pyplot as plt\n",
    "\n",
    "def check_neighbors(X_train, y_train, X_test, y_test, k):\n",
    "    best_score = 0\n",
    "    best_k = 0\n",
    "    scores = []\n",
    "    neighbors = []\n",
    "    \n",
    "    for i in range(1, k):\n",
    "        knn = KNeighborsRegressor(n_neighbors=i)\n",
    "        knn.fit(X_train, y_train)\n",
    "        score = knn.score(X_test, y_test)\n",
    "        \n",
    "        scores.append(score)\n",
    "        neighbors.append(i)\n",
    "        \n",
    "        if score > best_score:\n",
    "            best_score = score\n",
    "            best_k = i\n",
    "            \n",
    "    return best_k, best_score, neighbors, scores\n",
    "\n",
    "best_k, best_score, neighbors, scores = check_neighbors(X_train, y_train, X_test, y_test, 100)\n",
    "print(f\"The best value for k neighbors in regression is: {best_k} with an R-squared score of {best_score:.4f}\")\n",
    "\n",
    "plt.plot(neighbors, scores)\n",
    "plt.xlabel('Number of Neighbors')\n",
    "plt.ylabel('R-squared Score')\n",
    "plt.title('R-squared Score for Different Number of Neighbors')\n",
    "plt.show()"
   ]
  }
 ],
 "metadata": {
  "kernelspec": {
   "display_name": "base",
   "language": "python",
   "name": "python3"
  },
  "language_info": {
   "codemirror_mode": {
    "name": "ipython",
    "version": 3
   },
   "file_extension": ".py",
   "mimetype": "text/x-python",
   "name": "python",
   "nbconvert_exporter": "python",
   "pygments_lexer": "ipython3",
   "version": "3.9.13"
  }
 },
 "nbformat": 4,
 "nbformat_minor": 2
}
