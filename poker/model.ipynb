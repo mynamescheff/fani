{
 "cells": [
  {
   "cell_type": "code",
   "execution_count": 1,
   "metadata": {},
   "outputs": [],
   "source": [
    "import pandas as pd\n",
    "import numpy as np\n",
    "import matplotlib.pyplot as plt\n",
    "import sklearn as sk\n",
    "import seaborn as sns"
   ]
  },
  {
   "cell_type": "code",
   "execution_count": 2,
   "metadata": {},
   "outputs": [
    {
     "data": {
      "text/html": [
       "<div>\n",
       "<style scoped>\n",
       "    .dataframe tbody tr th:only-of-type {\n",
       "        vertical-align: middle;\n",
       "    }\n",
       "\n",
       "    .dataframe tbody tr th {\n",
       "        vertical-align: top;\n",
       "    }\n",
       "\n",
       "    .dataframe thead th {\n",
       "        text-align: right;\n",
       "    }\n",
       "</style>\n",
       "<table border=\"1\" class=\"dataframe\">\n",
       "  <thead>\n",
       "    <tr style=\"text-align: right;\">\n",
       "      <th></th>\n",
       "      <th>First Card</th>\n",
       "      <th>Second Card</th>\n",
       "      <th>Third Card</th>\n",
       "      <th>Fourth Card</th>\n",
       "      <th>Fifth Card</th>\n",
       "      <th>Result</th>\n",
       "    </tr>\n",
       "  </thead>\n",
       "  <tbody>\n",
       "    <tr>\n",
       "      <th>0</th>\n",
       "      <td>Nine Hearts</td>\n",
       "      <td>Ten Spades</td>\n",
       "      <td>King Hearts</td>\n",
       "      <td>King Clubs</td>\n",
       "      <td>Jack Spades</td>\n",
       "      <td>Pair</td>\n",
       "    </tr>\n",
       "    <tr>\n",
       "      <th>1</th>\n",
       "      <td>Ace Clubs</td>\n",
       "      <td>Queen Diamonds</td>\n",
       "      <td>Jack Spades</td>\n",
       "      <td>Jack Clubs</td>\n",
       "      <td>Ace Spades</td>\n",
       "      <td>Two Pairs</td>\n",
       "    </tr>\n",
       "    <tr>\n",
       "      <th>2</th>\n",
       "      <td>King Hearts</td>\n",
       "      <td>Nine Diamonds</td>\n",
       "      <td>Queen Hearts</td>\n",
       "      <td>Ten Clubs</td>\n",
       "      <td>Ten Diamonds</td>\n",
       "      <td>Pair</td>\n",
       "    </tr>\n",
       "    <tr>\n",
       "      <th>3</th>\n",
       "      <td>Nine Hearts</td>\n",
       "      <td>Nine Diamonds</td>\n",
       "      <td>Ace Diamonds</td>\n",
       "      <td>Jack Clubs</td>\n",
       "      <td>Queen Spades</td>\n",
       "      <td>Pair</td>\n",
       "    </tr>\n",
       "    <tr>\n",
       "      <th>4</th>\n",
       "      <td>Nine Diamonds</td>\n",
       "      <td>Nine Spades</td>\n",
       "      <td>Nine Hearts</td>\n",
       "      <td>King Spades</td>\n",
       "      <td>Nine Clubs</td>\n",
       "      <td>Four of a Kind</td>\n",
       "    </tr>\n",
       "  </tbody>\n",
       "</table>\n",
       "</div>"
      ],
      "text/plain": [
       "      First Card     Second Card    Third Card  Fourth Card    Fifth Card  \\\n",
       "0    Nine Hearts      Ten Spades   King Hearts   King Clubs   Jack Spades   \n",
       "1      Ace Clubs  Queen Diamonds   Jack Spades   Jack Clubs    Ace Spades   \n",
       "2    King Hearts   Nine Diamonds  Queen Hearts    Ten Clubs  Ten Diamonds   \n",
       "3    Nine Hearts   Nine Diamonds  Ace Diamonds   Jack Clubs  Queen Spades   \n",
       "4  Nine Diamonds     Nine Spades   Nine Hearts  King Spades    Nine Clubs   \n",
       "\n",
       "           Result  \n",
       "0            Pair  \n",
       "1       Two Pairs  \n",
       "2            Pair  \n",
       "3            Pair  \n",
       "4  Four of a Kind  "
      ]
     },
     "execution_count": 2,
     "metadata": {},
     "output_type": "execute_result"
    }
   ],
   "source": [
    "df100k = pd.read_csv('poker100k.csv')\n",
    "df100k.head()"
   ]
  },
  {
   "cell_type": "code",
   "execution_count": 3,
   "metadata": {},
   "outputs": [
    {
     "name": "stdout",
     "output_type": "stream",
     "text": [
      "<class 'pandas.core.frame.DataFrame'>\n",
      "RangeIndex: 100128 entries, 0 to 100127\n",
      "Data columns (total 6 columns):\n",
      " #   Column       Non-Null Count   Dtype \n",
      "---  ------       --------------   ----- \n",
      " 0   First Card   100128 non-null  object\n",
      " 1   Second Card  100128 non-null  object\n",
      " 2   Third Card   100128 non-null  object\n",
      " 3   Fourth Card  100128 non-null  object\n",
      " 4   Fifth Card   100128 non-null  object\n",
      " 5   Result       100128 non-null  object\n",
      "dtypes: object(6)\n",
      "memory usage: 4.6+ MB\n"
     ]
    }
   ],
   "source": [
    "df100k.info()"
   ]
  },
  {
   "cell_type": "code",
   "execution_count": 4,
   "metadata": {},
   "outputs": [
    {
     "data": {
      "text/html": [
       "<div>\n",
       "<style scoped>\n",
       "    .dataframe tbody tr th:only-of-type {\n",
       "        vertical-align: middle;\n",
       "    }\n",
       "\n",
       "    .dataframe tbody tr th {\n",
       "        vertical-align: top;\n",
       "    }\n",
       "\n",
       "    .dataframe thead th {\n",
       "        text-align: right;\n",
       "    }\n",
       "</style>\n",
       "<table border=\"1\" class=\"dataframe\">\n",
       "  <thead>\n",
       "    <tr style=\"text-align: right;\">\n",
       "      <th></th>\n",
       "      <th>First Card</th>\n",
       "      <th>Second Card</th>\n",
       "      <th>Third Card</th>\n",
       "      <th>Fourth Card</th>\n",
       "      <th>Fifth Card</th>\n",
       "      <th>Result</th>\n",
       "    </tr>\n",
       "  </thead>\n",
       "  <tbody>\n",
       "    <tr>\n",
       "      <th>count</th>\n",
       "      <td>100128</td>\n",
       "      <td>100128</td>\n",
       "      <td>100128</td>\n",
       "      <td>100128</td>\n",
       "      <td>100128</td>\n",
       "      <td>100128</td>\n",
       "    </tr>\n",
       "    <tr>\n",
       "      <th>unique</th>\n",
       "      <td>24</td>\n",
       "      <td>24</td>\n",
       "      <td>24</td>\n",
       "      <td>24</td>\n",
       "      <td>24</td>\n",
       "      <td>6</td>\n",
       "    </tr>\n",
       "    <tr>\n",
       "      <th>top</th>\n",
       "      <td>Ten Clubs</td>\n",
       "      <td>Nine Spades</td>\n",
       "      <td>Queen Clubs</td>\n",
       "      <td>King Spades</td>\n",
       "      <td>Queen Spades</td>\n",
       "      <td>Pair</td>\n",
       "    </tr>\n",
       "    <tr>\n",
       "      <th>freq</th>\n",
       "      <td>4313</td>\n",
       "      <td>4309</td>\n",
       "      <td>4349</td>\n",
       "      <td>4333</td>\n",
       "      <td>4297</td>\n",
       "      <td>54288</td>\n",
       "    </tr>\n",
       "  </tbody>\n",
       "</table>\n",
       "</div>"
      ],
      "text/plain": [
       "       First Card  Second Card   Third Card  Fourth Card    Fifth Card  Result\n",
       "count      100128       100128       100128       100128        100128  100128\n",
       "unique         24           24           24           24            24       6\n",
       "top     Ten Clubs  Nine Spades  Queen Clubs  King Spades  Queen Spades    Pair\n",
       "freq         4313         4309         4349         4333          4297   54288"
      ]
     },
     "execution_count": 4,
     "metadata": {},
     "output_type": "execute_result"
    }
   ],
   "source": [
    "df100k.describe()   "
   ]
  },
  {
   "cell_type": "code",
   "execution_count": 5,
   "metadata": {},
   "outputs": [
    {
     "data": {
      "text/plain": [
       "First Card     24\n",
       "Second Card    24\n",
       "Third Card     24\n",
       "Fourth Card    24\n",
       "Fifth Card     24\n",
       "Result          6\n",
       "dtype: int64"
      ]
     },
     "execution_count": 5,
     "metadata": {},
     "output_type": "execute_result"
    }
   ],
   "source": [
    "#unique values from each column\n",
    "df100k.nunique()"
   ]
  },
  {
   "cell_type": "code",
   "execution_count": 7,
   "metadata": {},
   "outputs": [
    {
     "data": {
      "text/plain": [
       "First Card     0\n",
       "Second Card    0\n",
       "Third Card     0\n",
       "Fourth Card    0\n",
       "Fifth Card     0\n",
       "Result         0\n",
       "dtype: int64"
      ]
     },
     "execution_count": 7,
     "metadata": {},
     "output_type": "execute_result"
    }
   ],
   "source": [
    "#check for null values\n",
    "df100k.isnull().sum()\n"
   ]
  },
  {
   "cell_type": "code",
   "execution_count": 10,
   "metadata": {},
   "outputs": [],
   "source": [
    "#create a new df for changing the object values to numeric\n",
    "df100k_num = df100k.copy()\n"
   ]
  },
  {
   "cell_type": "code",
   "execution_count": null,
   "metadata": {},
   "outputs": [],
   "source": [
    "#change the object values to numeric\n"
   ]
  }
 ],
 "metadata": {
  "kernelspec": {
   "display_name": "base",
   "language": "python",
   "name": "python3"
  },
  "language_info": {
   "codemirror_mode": {
    "name": "ipython",
    "version": 3
   },
   "file_extension": ".py",
   "mimetype": "text/x-python",
   "name": "python",
   "nbconvert_exporter": "python",
   "pygments_lexer": "ipython3",
   "version": "3.9.13"
  }
 },
 "nbformat": 4,
 "nbformat_minor": 2
}
