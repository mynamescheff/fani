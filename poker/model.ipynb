{
 "cells": [
  {
   "cell_type": "code",
   "execution_count": 1,
   "metadata": {},
   "outputs": [],
   "source": [
    "import pandas as pd\n",
    "import numpy as np\n",
    "import matplotlib.pyplot as plt\n",
    "import sklearn as sk\n",
    "import seaborn as sns"
   ]
  },
  {
   "cell_type": "code",
   "execution_count": 2,
   "metadata": {},
   "outputs": [
    {
     "data": {
      "text/html": [
       "<div>\n",
       "<style scoped>\n",
       "    .dataframe tbody tr th:only-of-type {\n",
       "        vertical-align: middle;\n",
       "    }\n",
       "\n",
       "    .dataframe tbody tr th {\n",
       "        vertical-align: top;\n",
       "    }\n",
       "\n",
       "    .dataframe thead th {\n",
       "        text-align: right;\n",
       "    }\n",
       "</style>\n",
       "<table border=\"1\" class=\"dataframe\">\n",
       "  <thead>\n",
       "    <tr style=\"text-align: right;\">\n",
       "      <th></th>\n",
       "      <th>First Card</th>\n",
       "      <th>Second Card</th>\n",
       "      <th>Third Card</th>\n",
       "      <th>Fourth Card</th>\n",
       "      <th>Fifth Card</th>\n",
       "      <th>Result</th>\n",
       "    </tr>\n",
       "  </thead>\n",
       "  <tbody>\n",
       "    <tr>\n",
       "      <th>0</th>\n",
       "      <td>Nine Hearts</td>\n",
       "      <td>Ten Spades</td>\n",
       "      <td>King Hearts</td>\n",
       "      <td>King Clubs</td>\n",
       "      <td>Jack Spades</td>\n",
       "      <td>Pair</td>\n",
       "    </tr>\n",
       "    <tr>\n",
       "      <th>1</th>\n",
       "      <td>Ace Clubs</td>\n",
       "      <td>Queen Diamonds</td>\n",
       "      <td>Jack Spades</td>\n",
       "      <td>Jack Clubs</td>\n",
       "      <td>Ace Spades</td>\n",
       "      <td>Two Pairs</td>\n",
       "    </tr>\n",
       "    <tr>\n",
       "      <th>2</th>\n",
       "      <td>King Hearts</td>\n",
       "      <td>Nine Diamonds</td>\n",
       "      <td>Queen Hearts</td>\n",
       "      <td>Ten Clubs</td>\n",
       "      <td>Ten Diamonds</td>\n",
       "      <td>Pair</td>\n",
       "    </tr>\n",
       "    <tr>\n",
       "      <th>3</th>\n",
       "      <td>Nine Hearts</td>\n",
       "      <td>Nine Diamonds</td>\n",
       "      <td>Ace Diamonds</td>\n",
       "      <td>Jack Clubs</td>\n",
       "      <td>Queen Spades</td>\n",
       "      <td>Pair</td>\n",
       "    </tr>\n",
       "    <tr>\n",
       "      <th>4</th>\n",
       "      <td>Nine Diamonds</td>\n",
       "      <td>Nine Spades</td>\n",
       "      <td>Nine Hearts</td>\n",
       "      <td>King Spades</td>\n",
       "      <td>Nine Clubs</td>\n",
       "      <td>Four of a Kind</td>\n",
       "    </tr>\n",
       "  </tbody>\n",
       "</table>\n",
       "</div>"
      ],
      "text/plain": [
       "      First Card     Second Card    Third Card  Fourth Card    Fifth Card  \\\n",
       "0    Nine Hearts      Ten Spades   King Hearts   King Clubs   Jack Spades   \n",
       "1      Ace Clubs  Queen Diamonds   Jack Spades   Jack Clubs    Ace Spades   \n",
       "2    King Hearts   Nine Diamonds  Queen Hearts    Ten Clubs  Ten Diamonds   \n",
       "3    Nine Hearts   Nine Diamonds  Ace Diamonds   Jack Clubs  Queen Spades   \n",
       "4  Nine Diamonds     Nine Spades   Nine Hearts  King Spades    Nine Clubs   \n",
       "\n",
       "           Result  \n",
       "0            Pair  \n",
       "1       Two Pairs  \n",
       "2            Pair  \n",
       "3            Pair  \n",
       "4  Four of a Kind  "
      ]
     },
     "execution_count": 2,
     "metadata": {},
     "output_type": "execute_result"
    }
   ],
   "source": [
    "df100k = pd.read_csv('poker100k.csv')\n",
    "df100k.head()"
   ]
  },
  {
   "cell_type": "code",
   "execution_count": 3,
   "metadata": {},
   "outputs": [
    {
     "name": "stdout",
     "output_type": "stream",
     "text": [
      "<class 'pandas.core.frame.DataFrame'>\n",
      "RangeIndex: 100128 entries, 0 to 100127\n",
      "Data columns (total 6 columns):\n",
      " #   Column       Non-Null Count   Dtype \n",
      "---  ------       --------------   ----- \n",
      " 0   First Card   100128 non-null  object\n",
      " 1   Second Card  100128 non-null  object\n",
      " 2   Third Card   100128 non-null  object\n",
      " 3   Fourth Card  100128 non-null  object\n",
      " 4   Fifth Card   100128 non-null  object\n",
      " 5   Result       100128 non-null  object\n",
      "dtypes: object(6)\n",
      "memory usage: 4.6+ MB\n"
     ]
    }
   ],
   "source": [
    "df100k.info()"
   ]
  },
  {
   "cell_type": "code",
   "execution_count": null,
   "metadata": {},
   "outputs": [],
   "source": []
  }
 ],
 "metadata": {
  "kernelspec": {
   "display_name": "base",
   "language": "python",
   "name": "python3"
  },
  "language_info": {
   "codemirror_mode": {
    "name": "ipython",
    "version": 3
   },
   "file_extension": ".py",
   "mimetype": "text/x-python",
   "name": "python",
   "nbconvert_exporter": "python",
   "pygments_lexer": "ipython3",
   "version": "3.9.13"
  }
 },
 "nbformat": 4,
 "nbformat_minor": 2
}
